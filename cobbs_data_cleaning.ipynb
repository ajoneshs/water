{
  "nbformat": 4,
  "nbformat_minor": 0,
  "metadata": {
    "colab": {
      "provenance": [],
      "authorship_tag": "ABX9TyOwqJ8BN5Q+NaFV/JzoRHb4",
      "include_colab_link": true
    },
    "kernelspec": {
      "name": "python3",
      "display_name": "Python 3"
    },
    "language_info": {
      "name": "python"
    }
  },
  "cells": [
    {
      "cell_type": "markdown",
      "metadata": {
        "id": "view-in-github",
        "colab_type": "text"
      },
      "source": [
        "<a href=\"https://colab.research.google.com/github/ajoneshs/data_demo/blob/main/cobbs_data_cleaning.ipynb\" target=\"_parent\"><img src=\"https://colab.research.google.com/assets/colab-badge.svg\" alt=\"Open In Colab\"/></a>"
      ]
    },
    {
      "cell_type": "code",
      "source": [
        "import pandas as pd\n",
        "import numpy as np"
      ],
      "metadata": {
        "id": "wBVfqyh64ME9"
      },
      "execution_count": 20,
      "outputs": []
    },
    {
      "cell_type": "code",
      "execution_count": 21,
      "metadata": {
        "colab": {
          "base_uri": "https://localhost:8080/"
        },
        "id": "YJIY1InQ3XVF",
        "outputId": "e60e4f66-c8f9-4bb6-8e40-a400d571d357"
      },
      "outputs": [
        {
          "output_type": "stream",
          "name": "stdout",
          "text": [
            "Drive already mounted at /content/drive; to attempt to forcibly remount, call drive.mount(\"/content/drive\", force_remount=True).\n"
          ]
        }
      ],
      "source": [
        "from google.colab import drive\n",
        "drive.mount('/content/drive')"
      ]
    },
    {
      "cell_type": "code",
      "source": [
        "df = pd.read_csv('/content/drive/MyDrive/Colab Notebooks/colab_data/og_cobbs_data.csv')\n",
        "print(df.head())"
      ],
      "metadata": {
        "colab": {
          "base_uri": "https://localhost:8080/"
        },
        "id": "-G1MMSrz4Pwg",
        "outputId": "8164430d-b42e-44d4-f67c-af917e80ac7f"
      },
      "execution_count": 22,
      "outputs": [
        {
          "output_type": "stream",
          "name": "stdout",
          "text": [
            "        Date     Time Sample ID Rain in Last 24HR Water Level Water Color  \\\n",
            "0  7/18/2023  8:38 AM    CC-1.1                no           -           -   \n",
            "1  7/18/2023  8:39 AM    CC-1.2                no           -           -   \n",
            "2  7/18/2023  8:40 AM    CC-1.3                no           -           -   \n",
            "3  7/19/2023  8:14 AM    CC-1.1               yes           -           -   \n",
            "4  7/19/2023  8:15 AM    CC-1.2               yes           -           -   \n",
            "\n",
            "   Water Temp (C)  DO (mg/L)  Pressure (mmHg)  Conductivity (uS/cm)    pH  \\\n",
            "0            24.8       6.78            760.8                 464.0  7.11   \n",
            "1            24.7       6.61            760.8                 467.0  7.09   \n",
            "2            24.7       6.57            760.8                 467.0  7.07   \n",
            "3            24.0       4.59            761.8                 490.0  6.72   \n",
            "4            24.1       4.56            761.8                 487.0  6.90   \n",
            "\n",
            "   NO3-N (mg/L) PO4-P (mg/L) Presence/Absence  \\\n",
            "0           1.0         0.22          no data   \n",
            "1           1.0         0.31          no data   \n",
            "2           1.0         0.19          no data   \n",
            "3           1.2         0.81          no data   \n",
            "4           1.2         0.57          no data   \n",
            "\n",
            "  RiverWays Colony Count Average (colonies/100mL)  \n",
            "0                                               -  \n",
            "1                                               -  \n",
            "2                                               -  \n",
            "3                                               -  \n",
            "4                                               -  \n"
          ]
        }
      ]
    },
    {
      "cell_type": "code",
      "source": [
        "# renaming for convenience\n",
        "df = df.rename(columns={\n",
        "  'Date': 'date',\n",
        "  'Time': 'time',\n",
        "  'Sample ID': 'id',\n",
        "  'Rain in Last 24HR': 'rain24',\n",
        "  'Water Level': 'water_level',\n",
        "  'Water Color': 'water_color',\n",
        "  'Water Temp (C)': 'water_temp',\n",
        "  'DO (mg/L)': 'dox',\n",
        "  'Pressure (mmHg)': 'pressure',\n",
        "  'Conductivity (uS/cm)': 'conductivity',\n",
        "  'pH': 'ph',\n",
        "  'NO3-N (mg/L)': 'no3n',\n",
        "  'PO4-P (mg/L)': 'po4p',\n",
        "  'Presence/Absence': 'pres',\n",
        "  'RiverWays Colony Count Average (colonies/100mL)': 'col_count'})\n",
        "\n",
        "print(df.head())"
      ],
      "metadata": {
        "id": "HxgOtm1k42iN",
        "colab": {
          "base_uri": "https://localhost:8080/"
        },
        "outputId": "b2f7e0ae-d515-4ae3-e02c-4de78a34fb72"
      },
      "execution_count": 23,
      "outputs": [
        {
          "output_type": "stream",
          "name": "stdout",
          "text": [
            "        date     time      id rain24 water_level water_color  water_temp  \\\n",
            "0  7/18/2023  8:38 AM  CC-1.1     no           -           -        24.8   \n",
            "1  7/18/2023  8:39 AM  CC-1.2     no           -           -        24.7   \n",
            "2  7/18/2023  8:40 AM  CC-1.3     no           -           -        24.7   \n",
            "3  7/19/2023  8:14 AM  CC-1.1    yes           -           -        24.0   \n",
            "4  7/19/2023  8:15 AM  CC-1.2    yes           -           -        24.1   \n",
            "\n",
            "    dox  pressure  conductivity    ph  no3n  po4p     pres col_count  \n",
            "0  6.78     760.8         464.0  7.11   1.0  0.22  no data         -  \n",
            "1  6.61     760.8         467.0  7.09   1.0  0.31  no data         -  \n",
            "2  6.57     760.8         467.0  7.07   1.0  0.19  no data         -  \n",
            "3  4.59     761.8         490.0  6.72   1.2  0.81  no data         -  \n",
            "4  4.56     761.8         487.0  6.90   1.2  0.57  no data         -  \n"
          ]
        }
      ]
    },
    {
      "cell_type": "code",
      "source": [
        "# replacing yes/no with binary\n",
        "df = df.replace(to_replace=['no', 'yes'], value=[0, 1])\n",
        "print(df.head())"
      ],
      "metadata": {
        "colab": {
          "base_uri": "https://localhost:8080/"
        },
        "id": "CzXmF2AM9AMN",
        "outputId": "286c0853-f366-41e1-caff-972503cb5dcb"
      },
      "execution_count": 24,
      "outputs": [
        {
          "output_type": "stream",
          "name": "stdout",
          "text": [
            "        date     time      id  rain24 water_level water_color  water_temp  \\\n",
            "0  7/18/2023  8:38 AM  CC-1.1     0.0           -           -        24.8   \n",
            "1  7/18/2023  8:39 AM  CC-1.2     0.0           -           -        24.7   \n",
            "2  7/18/2023  8:40 AM  CC-1.3     0.0           -           -        24.7   \n",
            "3  7/19/2023  8:14 AM  CC-1.1     1.0           -           -        24.0   \n",
            "4  7/19/2023  8:15 AM  CC-1.2     1.0           -           -        24.1   \n",
            "\n",
            "    dox  pressure  conductivity    ph  no3n  po4p     pres col_count  \n",
            "0  6.78     760.8         464.0  7.11   1.0  0.22  no data         -  \n",
            "1  6.61     760.8         467.0  7.09   1.0  0.31  no data         -  \n",
            "2  6.57     760.8         467.0  7.07   1.0  0.19  no data         -  \n",
            "3  4.59     761.8         490.0  6.72   1.2  0.81  no data         -  \n",
            "4  4.56     761.8         487.0  6.90   1.2  0.57  no data         -  \n"
          ]
        }
      ]
    },
    {
      "cell_type": "code",
      "source": [
        "# fixing missing data\n",
        "df = df.replace('-', np.nan)\n",
        "df = df.replace('no data', np.nan)\n",
        "print(df)"
      ],
      "metadata": {
        "colab": {
          "base_uri": "https://localhost:8080/"
        },
        "id": "txYVw9QL67wQ",
        "outputId": "14aa0172-c52e-4a33-e471-28f7e80156a5"
      },
      "execution_count": 25,
      "outputs": [
        {
          "output_type": "stream",
          "name": "stdout",
          "text": [
            "          date     time      id  rain24     water_level water_color  \\\n",
            "0    7/18/2023  8:38 AM  CC-1.1     0.0             NaN         NaN   \n",
            "1    7/18/2023  8:39 AM  CC-1.2     0.0             NaN         NaN   \n",
            "2    7/18/2023  8:40 AM  CC-1.3     0.0             NaN         NaN   \n",
            "3    7/19/2023  8:14 AM  CC-1.1     1.0             NaN         NaN   \n",
            "4    7/19/2023  8:15 AM  CC-1.2     1.0             NaN         NaN   \n",
            "..         ...      ...     ...     ...             ...         ...   \n",
            "139        NaN      NaN  CC-1.2     NaN  4: Normal-high         NaN   \n",
            "140        NaN      NaN  CC-1.3     NaN  4: Normal-high         NaN   \n",
            "141        NaN      NaN  CC-1.1     NaN  4: Normal-high         NaN   \n",
            "142        NaN      NaN  CC-1.2     NaN  4: Normal-high         NaN   \n",
            "143        NaN      NaN  CC-1.3     NaN  4: Normal-high         NaN   \n",
            "\n",
            "     water_temp   dox  pressure  conductivity    ph  no3n  po4p pres col_count  \n",
            "0          24.8  6.78     760.8         464.0  7.11   1.0  0.22  NaN       NaN  \n",
            "1          24.7  6.61     760.8         467.0  7.09   1.0  0.31  NaN       NaN  \n",
            "2          24.7  6.57     760.8         467.0  7.07   1.0  0.19  NaN       NaN  \n",
            "3          24.0  4.59     761.8         490.0  6.72   1.2  0.81  NaN       NaN  \n",
            "4          24.1  4.56     761.8         487.0  6.90   1.2  0.57  NaN       NaN  \n",
            "..          ...   ...       ...           ...   ...   ...   ...  ...       ...  \n",
            "139         NaN   NaN       NaN           NaN   NaN   NaN   NaN  NaN       NaN  \n",
            "140         NaN   NaN       NaN           NaN   NaN   NaN   NaN  NaN       NaN  \n",
            "141         NaN   NaN       NaN           NaN   NaN   NaN   NaN  NaN       NaN  \n",
            "142         NaN   NaN       NaN           NaN   NaN   NaN   NaN  NaN       NaN  \n",
            "143         NaN   NaN       NaN           NaN   NaN   NaN   NaN  NaN       NaN  \n",
            "\n",
            "[144 rows x 15 columns]\n"
          ]
        }
      ]
    },
    {
      "cell_type": "code",
      "source": [
        "# remove empty rows at the bottom\n",
        "df = df.dropna(subset=['date'])\n",
        "print(df)"
      ],
      "metadata": {
        "colab": {
          "base_uri": "https://localhost:8080/"
        },
        "id": "a44CKxqXCdBx",
        "outputId": "4d8bbb5e-6644-4ee9-e991-85f48cf312b6"
      },
      "execution_count": 26,
      "outputs": [
        {
          "output_type": "stream",
          "name": "stdout",
          "text": [
            "          date     time      id  rain24 water_level water_color  water_temp  \\\n",
            "0    7/18/2023  8:38 AM  CC-1.1     0.0         NaN         NaN        24.8   \n",
            "1    7/18/2023  8:39 AM  CC-1.2     0.0         NaN         NaN        24.7   \n",
            "2    7/18/2023  8:40 AM  CC-1.3     0.0         NaN         NaN        24.7   \n",
            "3    7/19/2023  8:14 AM  CC-1.1     1.0         NaN         NaN        24.0   \n",
            "4    7/19/2023  8:15 AM  CC-1.2     1.0         NaN         NaN        24.1   \n",
            "..         ...      ...     ...     ...         ...         ...         ...   \n",
            "118  11/1/2023  7:51 AM  CC-1.2     1.0     5: High       Clear        12.4   \n",
            "119  11/1/2023  7:52 AM  CC-1.3     1.0     5: High       Clear        12.2   \n",
            "120  11/2/2023  7:50 AM  CC-1.1     0.0     5: High       Clear        10.2   \n",
            "121  11/2/2023  7:51 AM  CC-1.2     0.0     5: High       Clear         9.6   \n",
            "122  11/2/2023  7:52 AM  CC-1.3     0.0     5: High       Clear         9.2   \n",
            "\n",
            "      dox  pressure  conductivity    ph  no3n  po4p pres col_count  \n",
            "0    6.78     760.8         464.0  7.11   1.0  0.22  NaN       NaN  \n",
            "1    6.61     760.8         467.0  7.09   1.0  0.31  NaN       NaN  \n",
            "2    6.57     760.8         467.0  7.07   1.0  0.19  NaN       NaN  \n",
            "3    4.59     761.8         490.0  6.72   1.2  0.81  NaN       NaN  \n",
            "4    4.56     761.8         487.0  6.90   1.2  0.57  NaN       NaN  \n",
            "..    ...       ...           ...   ...   ...   ...  ...       ...  \n",
            "118  8.63     762.3         673.0  6.67   1.3  0.17  NaN       NaN  \n",
            "119  8.65     762.3         675.0  6.88   1.3  0.13  NaN       NaN  \n",
            "120  9.19     774.2         638.0  6.57   1.2  0.46  NaN       NaN  \n",
            "121  9.36     774.2         654.0  6.61   1.1  0.43  NaN       NaN  \n",
            "122  9.39     774.2         658.0  6.65   1.2  0.18  NaN       NaN  \n",
            "\n",
            "[123 rows x 15 columns]\n"
          ]
        }
      ]
    },
    {
      "cell_type": "code",
      "source": [
        "df.to_csv('/content/drive/MyDrive/Colab Notebooks/colab_data/clean_cobbs_data.csv')"
      ],
      "metadata": {
        "id": "0L1nfzb1E3dh"
      },
      "execution_count": 27,
      "outputs": []
    }
  ]
}