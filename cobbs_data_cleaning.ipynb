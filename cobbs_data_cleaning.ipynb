{
  "nbformat": 4,
  "nbformat_minor": 0,
  "metadata": {
    "colab": {
      "provenance": [],
      "authorship_tag": "ABX9TyOs4SMlDGm3jjLT9zY1kc+c",
      "include_colab_link": true
    },
    "kernelspec": {
      "name": "python3",
      "display_name": "Python 3"
    },
    "language_info": {
      "name": "python"
    }
  },
  "cells": [
    {
      "cell_type": "markdown",
      "metadata": {
        "id": "view-in-github",
        "colab_type": "text"
      },
      "source": [
        "<a href=\"https://colab.research.google.com/github/ajoneshs/data_demo/blob/main/cobbs_data_cleaning.ipynb\" target=\"_parent\"><img src=\"https://colab.research.google.com/assets/colab-badge.svg\" alt=\"Open In Colab\"/></a>"
      ]
    },
    {
      "cell_type": "code",
      "source": [
        "import pandas as pd"
      ],
      "metadata": {
        "id": "wBVfqyh64ME9"
      },
      "execution_count": 12,
      "outputs": []
    },
    {
      "cell_type": "code",
      "execution_count": 13,
      "metadata": {
        "colab": {
          "base_uri": "https://localhost:8080/"
        },
        "id": "YJIY1InQ3XVF",
        "outputId": "d5aa93ab-3def-4623-85b5-cb352fc69617"
      },
      "outputs": [
        {
          "output_type": "stream",
          "name": "stdout",
          "text": [
            "Drive already mounted at /content/drive; to attempt to forcibly remount, call drive.mount(\"/content/drive\", force_remount=True).\n"
          ]
        }
      ],
      "source": [
        "from google.colab import drive\n",
        "drive.mount('/content/drive')"
      ]
    },
    {
      "cell_type": "code",
      "source": [
        "df = pd.read_csv('/content/drive/MyDrive/Colab Notebooks/colab_data/og_cobbs_data.csv')\n",
        "print(df.head())"
      ],
      "metadata": {
        "colab": {
          "base_uri": "https://localhost:8080/"
        },
        "id": "-G1MMSrz4Pwg",
        "outputId": "8243b390-ec07-4a4d-d0e2-1aacdb1de027"
      },
      "execution_count": 14,
      "outputs": [
        {
          "output_type": "stream",
          "name": "stdout",
          "text": [
            "        Date     Time Sample ID Rain in Last 24HR Water Level Water Color  \\\n",
            "0  7/18/2023  8:38 AM    CC-1.1                no           -           -   \n",
            "1  7/18/2023  8:39 AM    CC-1.2                no           -           -   \n",
            "2  7/18/2023  8:40 AM    CC-1.3                no           -           -   \n",
            "3  7/19/2023  8:14 AM    CC-1.1               yes           -           -   \n",
            "4  7/19/2023  8:15 AM    CC-1.2               yes           -           -   \n",
            "\n",
            "   Water Temp (C)  DO (mg/L)  Pressure (mmHg)  Conductivity (uS/cm)    pH  \\\n",
            "0            24.8       6.78            760.8                 464.0  7.11   \n",
            "1            24.7       6.61            760.8                 467.0  7.09   \n",
            "2            24.7       6.57            760.8                 467.0  7.07   \n",
            "3            24.0       4.59            761.8                 490.0  6.72   \n",
            "4            24.1       4.56            761.8                 487.0  6.90   \n",
            "\n",
            "   NO3-N (mg/L) PO4-P (mg/L) Presence/Absence  \\\n",
            "0           1.0         0.22          no data   \n",
            "1           1.0         0.31          no data   \n",
            "2           1.0         0.19          no data   \n",
            "3           1.2         0.81          no data   \n",
            "4           1.2         0.57          no data   \n",
            "\n",
            "  RiverWays Colony Count Average (colonies/100mL)  \n",
            "0                                               -  \n",
            "1                                               -  \n",
            "2                                               -  \n",
            "3                                               -  \n",
            "4                                               -  \n"
          ]
        }
      ]
    },
    {
      "cell_type": "code",
      "source": [
        "# renaming for convenience\n",
        "df = df.rename(columns={\n",
        "  'Date': 'date',\n",
        "  'Time': 'time',\n",
        "  'Sample ID': 'id',\n",
        "  'Rain in Last 24HR': 'rain24',\n",
        "  'Water Level': 'water_level',\n",
        "  'Water Color': 'water_color',\n",
        "  'Water Temp (C)': 'water_temp',\n",
        "  'DO (mg/L)': 'dox',\n",
        "  'Pressure (mmHg)': 'pressure',\n",
        "  'Conductivity (uS/cm)': 'conductivity',\n",
        "  'pH': 'ph',\n",
        "  'NO3-N (mg/L)': 'no3n',\n",
        "  'PO4-P (mg/L)': 'po4p',\n",
        "  'Presence/Absence': 'pres',\n",
        "  'RiverWays Colony Count Average (colonies/100mL)': 'col_count'})\n",
        "\n",
        "print(df.head())"
      ],
      "metadata": {
        "id": "HxgOtm1k42iN",
        "colab": {
          "base_uri": "https://localhost:8080/"
        },
        "outputId": "1be4eb1a-f3bd-4e72-e80e-db0b6b095b24"
      },
      "execution_count": 16,
      "outputs": [
        {
          "output_type": "stream",
          "name": "stdout",
          "text": [
            "        date     time      id rain24 water_level water_color  water_temp  \\\n",
            "0  7/18/2023  8:38 AM  CC-1.1     no           -           -        24.8   \n",
            "1  7/18/2023  8:39 AM  CC-1.2     no           -           -        24.7   \n",
            "2  7/18/2023  8:40 AM  CC-1.3     no           -           -        24.7   \n",
            "3  7/19/2023  8:14 AM  CC-1.1    yes           -           -        24.0   \n",
            "4  7/19/2023  8:15 AM  CC-1.2    yes           -           -        24.1   \n",
            "\n",
            "    dox  pressure  conductivity    ph  no3n  po4p     pres col_count  \n",
            "0  6.78     760.8         464.0  7.11   1.0  0.22  no data         -  \n",
            "1  6.61     760.8         467.0  7.09   1.0  0.31  no data         -  \n",
            "2  6.57     760.8         467.0  7.07   1.0  0.19  no data         -  \n",
            "3  4.59     761.8         490.0  6.72   1.2  0.81  no data         -  \n",
            "4  4.56     761.8         487.0  6.90   1.2  0.57  no data         -  \n"
          ]
        }
      ]
    }
  ]
}