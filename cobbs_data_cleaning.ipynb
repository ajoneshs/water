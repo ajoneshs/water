{
  "nbformat": 4,
  "nbformat_minor": 0,
  "metadata": {
    "colab": {
      "provenance": [],
      "authorship_tag": "ABX9TyO6lzeo8XInaXKVDl9k5h0j",
      "include_colab_link": true
    },
    "kernelspec": {
      "name": "python3",
      "display_name": "Python 3"
    },
    "language_info": {
      "name": "python"
    }
  },
  "cells": [
    {
      "cell_type": "markdown",
      "metadata": {
        "id": "view-in-github",
        "colab_type": "text"
      },
      "source": [
        "<a href=\"https://colab.research.google.com/github/ajoneshs/water/blob/main/cobbs_data_cleaning.ipynb\" target=\"_parent\"><img src=\"https://colab.research.google.com/assets/colab-badge.svg\" alt=\"Open In Colab\"/></a>"
      ]
    },
    {
      "cell_type": "code",
      "source": [
        "import pandas as pd\n",
        "import numpy as np"
      ],
      "metadata": {
        "id": "wBVfqyh64ME9"
      },
      "execution_count": 113,
      "outputs": []
    },
    {
      "cell_type": "code",
      "execution_count": 114,
      "metadata": {
        "colab": {
          "base_uri": "https://localhost:8080/"
        },
        "id": "YJIY1InQ3XVF",
        "outputId": "31403e63-ebe2-47b4-be7e-b2e6d1329358"
      },
      "outputs": [
        {
          "output_type": "stream",
          "name": "stdout",
          "text": [
            "Drive already mounted at /content/drive; to attempt to forcibly remount, call drive.mount(\"/content/drive\", force_remount=True).\n"
          ]
        }
      ],
      "source": [
        "from google.colab import drive\n",
        "drive.mount('/content/drive')"
      ]
    },
    {
      "cell_type": "code",
      "source": [
        "df = pd.read_csv('/content/drive/MyDrive/Colab Notebooks/colab_data/og_cobbs_data.csv')\n",
        "print(df.head())"
      ],
      "metadata": {
        "colab": {
          "base_uri": "https://localhost:8080/"
        },
        "id": "-G1MMSrz4Pwg",
        "outputId": "d69c5ef4-5402-4bcc-b8e2-e638419d192e"
      },
      "execution_count": 115,
      "outputs": [
        {
          "output_type": "stream",
          "name": "stdout",
          "text": [
            "        Date     Time Sample ID Rain in Last 24HR Water Level Water Color  \\\n",
            "0  7/18/2023  8:38 AM    CC-1.1                no           -           -   \n",
            "1  7/18/2023  8:39 AM    CC-1.2                no           -           -   \n",
            "2  7/18/2023  8:40 AM    CC-1.3                no           -           -   \n",
            "3  7/19/2023  8:14 AM    CC-1.1               yes           -           -   \n",
            "4  7/19/2023  8:15 AM    CC-1.2               yes           -           -   \n",
            "\n",
            "   Water Temp (C)  DO (mg/L)  Pressure (mmHg)  Conductivity (uS/cm)    pH  \\\n",
            "0            24.8       6.78            760.8                 464.0  7.11   \n",
            "1            24.7       6.61            760.8                 467.0  7.09   \n",
            "2            24.7       6.57            760.8                 467.0  7.07   \n",
            "3            24.0       4.59            761.8                 490.0  6.72   \n",
            "4            24.1       4.56            761.8                 487.0  6.90   \n",
            "\n",
            "   NO3-N (mg/L) PO4-P (mg/L) Presence/Absence  \\\n",
            "0           1.0         0.22          no data   \n",
            "1           1.0         0.31          no data   \n",
            "2           1.0         0.19          no data   \n",
            "3           1.2         0.81          no data   \n",
            "4           1.2         0.57          no data   \n",
            "\n",
            "  RiverWays Colony Count Average (colonies/100mL)  \n",
            "0                                               -  \n",
            "1                                               -  \n",
            "2                                               -  \n",
            "3                                               -  \n",
            "4                                               -  \n"
          ]
        }
      ]
    },
    {
      "cell_type": "code",
      "source": [
        "# renaming for convenience\n",
        "df = df.rename(columns={\n",
        "  'Date': 'date',\n",
        "  'Time': 'time',\n",
        "  'Sample ID': 'id',\n",
        "  'Rain in Last 24HR': 'rain24',\n",
        "  'Water Level': 'water_level',\n",
        "  'Water Color': 'water_color',\n",
        "  'Water Temp (C)': 'water_temp',\n",
        "  'DO (mg/L)': 'dox',\n",
        "  'Pressure (mmHg)': 'pressure',\n",
        "  'Conductivity (uS/cm)': 'conductivity',\n",
        "  'pH': 'ph',\n",
        "  'NO3-N (mg/L)': 'no3n',\n",
        "  'PO4-P (mg/L)': 'po4p',\n",
        "  'Presence/Absence': 'pres',\n",
        "  'RiverWays Colony Count Average (colonies/100mL)': 'col_count'})\n",
        "\n",
        "print(df.head())"
      ],
      "metadata": {
        "id": "HxgOtm1k42iN",
        "colab": {
          "base_uri": "https://localhost:8080/"
        },
        "outputId": "353d2874-aaf7-43c5-8bb1-a4ecdcc95b99"
      },
      "execution_count": 116,
      "outputs": [
        {
          "output_type": "stream",
          "name": "stdout",
          "text": [
            "        date     time      id rain24 water_level water_color  water_temp  \\\n",
            "0  7/18/2023  8:38 AM  CC-1.1     no           -           -        24.8   \n",
            "1  7/18/2023  8:39 AM  CC-1.2     no           -           -        24.7   \n",
            "2  7/18/2023  8:40 AM  CC-1.3     no           -           -        24.7   \n",
            "3  7/19/2023  8:14 AM  CC-1.1    yes           -           -        24.0   \n",
            "4  7/19/2023  8:15 AM  CC-1.2    yes           -           -        24.1   \n",
            "\n",
            "    dox  pressure  conductivity    ph  no3n  po4p     pres col_count  \n",
            "0  6.78     760.8         464.0  7.11   1.0  0.22  no data         -  \n",
            "1  6.61     760.8         467.0  7.09   1.0  0.31  no data         -  \n",
            "2  6.57     760.8         467.0  7.07   1.0  0.19  no data         -  \n",
            "3  4.59     761.8         490.0  6.72   1.2  0.81  no data         -  \n",
            "4  4.56     761.8         487.0  6.90   1.2  0.57  no data         -  \n"
          ]
        }
      ]
    },
    {
      "cell_type": "code",
      "source": [
        "# replacing yes/no with binary\n",
        "df = df.replace(to_replace=['no', 'yes'], value=[0, 1])\n",
        "print(df.head())"
      ],
      "metadata": {
        "colab": {
          "base_uri": "https://localhost:8080/"
        },
        "id": "CzXmF2AM9AMN",
        "outputId": "715b15a4-50ac-4c85-8c3e-e517c51241c8"
      },
      "execution_count": 117,
      "outputs": [
        {
          "output_type": "stream",
          "name": "stdout",
          "text": [
            "        date     time      id  rain24 water_level water_color  water_temp  \\\n",
            "0  7/18/2023  8:38 AM  CC-1.1     0.0           -           -        24.8   \n",
            "1  7/18/2023  8:39 AM  CC-1.2     0.0           -           -        24.7   \n",
            "2  7/18/2023  8:40 AM  CC-1.3     0.0           -           -        24.7   \n",
            "3  7/19/2023  8:14 AM  CC-1.1     1.0           -           -        24.0   \n",
            "4  7/19/2023  8:15 AM  CC-1.2     1.0           -           -        24.1   \n",
            "\n",
            "    dox  pressure  conductivity    ph  no3n  po4p     pres col_count  \n",
            "0  6.78     760.8         464.0  7.11   1.0  0.22  no data         -  \n",
            "1  6.61     760.8         467.0  7.09   1.0  0.31  no data         -  \n",
            "2  6.57     760.8         467.0  7.07   1.0  0.19  no data         -  \n",
            "3  4.59     761.8         490.0  6.72   1.2  0.81  no data         -  \n",
            "4  4.56     761.8         487.0  6.90   1.2  0.57  no data         -  \n"
          ]
        }
      ]
    },
    {
      "cell_type": "code",
      "source": [
        "# fixing missing data\n",
        "df = df.replace('-', np.nan)\n",
        "# row 93 had double '--' and wasn't getting picked up\n",
        "df = df.replace('--', np.nan)\n",
        "df = df.replace('no data', np.nan)\n",
        "print(df)\n",
        "# fixed 93 now\n",
        "df.iloc[93]"
      ],
      "metadata": {
        "colab": {
          "base_uri": "https://localhost:8080/"
        },
        "id": "txYVw9QL67wQ",
        "outputId": "8980ced7-4e1c-4041-9427-138fb5788c96"
      },
      "execution_count": 118,
      "outputs": [
        {
          "output_type": "stream",
          "name": "stdout",
          "text": [
            "          date     time      id  rain24     water_level water_color  \\\n",
            "0    7/18/2023  8:38 AM  CC-1.1     0.0             NaN         NaN   \n",
            "1    7/18/2023  8:39 AM  CC-1.2     0.0             NaN         NaN   \n",
            "2    7/18/2023  8:40 AM  CC-1.3     0.0             NaN         NaN   \n",
            "3    7/19/2023  8:14 AM  CC-1.1     1.0             NaN         NaN   \n",
            "4    7/19/2023  8:15 AM  CC-1.2     1.0             NaN         NaN   \n",
            "..         ...      ...     ...     ...             ...         ...   \n",
            "139        NaN      NaN  CC-1.2     NaN  4: Normal-high         NaN   \n",
            "140        NaN      NaN  CC-1.3     NaN  4: Normal-high         NaN   \n",
            "141        NaN      NaN  CC-1.1     NaN  4: Normal-high         NaN   \n",
            "142        NaN      NaN  CC-1.2     NaN  4: Normal-high         NaN   \n",
            "143        NaN      NaN  CC-1.3     NaN  4: Normal-high         NaN   \n",
            "\n",
            "     water_temp   dox  pressure  conductivity    ph  no3n  po4p pres col_count  \n",
            "0          24.8  6.78     760.8         464.0  7.11   1.0  0.22  NaN       NaN  \n",
            "1          24.7  6.61     760.8         467.0  7.09   1.0  0.31  NaN       NaN  \n",
            "2          24.7  6.57     760.8         467.0  7.07   1.0  0.19  NaN       NaN  \n",
            "3          24.0  4.59     761.8         490.0  6.72   1.2  0.81  NaN       NaN  \n",
            "4          24.1  4.56     761.8         487.0  6.90   1.2  0.57  NaN       NaN  \n",
            "..          ...   ...       ...           ...   ...   ...   ...  ...       ...  \n",
            "139         NaN   NaN       NaN           NaN   NaN   NaN   NaN  NaN       NaN  \n",
            "140         NaN   NaN       NaN           NaN   NaN   NaN   NaN  NaN       NaN  \n",
            "141         NaN   NaN       NaN           NaN   NaN   NaN   NaN  NaN       NaN  \n",
            "142         NaN   NaN       NaN           NaN   NaN   NaN   NaN  NaN       NaN  \n",
            "143         NaN   NaN       NaN           NaN   NaN   NaN   NaN  NaN       NaN  \n",
            "\n",
            "[144 rows x 15 columns]\n"
          ]
        },
        {
          "output_type": "execute_result",
          "data": {
            "text/plain": [
              "date            10/10/2023\n",
              "time               7:45 AM\n",
              "id                  CC-1.1\n",
              "rain24                 0.0\n",
              "water_level        5: High\n",
              "water_color          Clear\n",
              "water_temp            14.6\n",
              "dox                    8.7\n",
              "pressure             758.1\n",
              "conductivity         678.0\n",
              "ph                    6.88\n",
              "no3n                   1.5\n",
              "po4p                  1.64\n",
              "pres                   NaN\n",
              "col_count              NaN\n",
              "Name: 93, dtype: object"
            ]
          },
          "metadata": {},
          "execution_count": 118
        }
      ]
    },
    {
      "cell_type": "code",
      "source": [
        "# remove empty rows at the bottom\n",
        "df = df.dropna(subset=['date'])\n",
        "print(df)"
      ],
      "metadata": {
        "colab": {
          "base_uri": "https://localhost:8080/"
        },
        "id": "a44CKxqXCdBx",
        "outputId": "59c8fe7b-c8a5-44da-ef67-f6ff896a7521"
      },
      "execution_count": 119,
      "outputs": [
        {
          "output_type": "stream",
          "name": "stdout",
          "text": [
            "          date     time      id  rain24 water_level water_color  water_temp  \\\n",
            "0    7/18/2023  8:38 AM  CC-1.1     0.0         NaN         NaN        24.8   \n",
            "1    7/18/2023  8:39 AM  CC-1.2     0.0         NaN         NaN        24.7   \n",
            "2    7/18/2023  8:40 AM  CC-1.3     0.0         NaN         NaN        24.7   \n",
            "3    7/19/2023  8:14 AM  CC-1.1     1.0         NaN         NaN        24.0   \n",
            "4    7/19/2023  8:15 AM  CC-1.2     1.0         NaN         NaN        24.1   \n",
            "..         ...      ...     ...     ...         ...         ...         ...   \n",
            "118  11/1/2023  7:51 AM  CC-1.2     1.0     5: High       Clear        12.4   \n",
            "119  11/1/2023  7:52 AM  CC-1.3     1.0     5: High       Clear        12.2   \n",
            "120  11/2/2023  7:50 AM  CC-1.1     0.0     5: High       Clear        10.2   \n",
            "121  11/2/2023  7:51 AM  CC-1.2     0.0     5: High       Clear         9.6   \n",
            "122  11/2/2023  7:52 AM  CC-1.3     0.0     5: High       Clear         9.2   \n",
            "\n",
            "      dox  pressure  conductivity    ph  no3n  po4p pres col_count  \n",
            "0    6.78     760.8         464.0  7.11   1.0  0.22  NaN       NaN  \n",
            "1    6.61     760.8         467.0  7.09   1.0  0.31  NaN       NaN  \n",
            "2    6.57     760.8         467.0  7.07   1.0  0.19  NaN       NaN  \n",
            "3    4.59     761.8         490.0  6.72   1.2  0.81  NaN       NaN  \n",
            "4    4.56     761.8         487.0  6.90   1.2  0.57  NaN       NaN  \n",
            "..    ...       ...           ...   ...   ...   ...  ...       ...  \n",
            "118  8.63     762.3         673.0  6.67   1.3  0.17  NaN       NaN  \n",
            "119  8.65     762.3         675.0  6.88   1.3  0.13  NaN       NaN  \n",
            "120  9.19     774.2         638.0  6.57   1.2  0.46  NaN       NaN  \n",
            "121  9.36     774.2         654.0  6.61   1.1  0.43  NaN       NaN  \n",
            "122  9.39     774.2         658.0  6.65   1.2  0.18  NaN       NaN  \n",
            "\n",
            "[123 rows x 15 columns]\n"
          ]
        }
      ]
    },
    {
      "cell_type": "code",
      "source": [
        "df.to_csv('/content/drive/MyDrive/Colab Notebooks/colab_data/clean_cobbs_data.csv')"
      ],
      "metadata": {
        "id": "0L1nfzb1E3dh"
      },
      "execution_count": 120,
      "outputs": []
    },
    {
      "cell_type": "code",
      "source": [
        "####################\n",
        "##### XRF Data #####\n",
        "####################\n",
        "\n",
        "df = pd.read_csv('/content/drive/MyDrive/Colab Notebooks/colab_data/og_xrf_data.csv')\n",
        "print(df.head())"
      ],
      "metadata": {
        "colab": {
          "base_uri": "https://localhost:8080/"
        },
        "id": "-vrnb8SYCXsR",
        "outputId": "53f2594d-e081-40b2-c797-a9e1e2e6ebf5"
      },
      "execution_count": 121,
      "outputs": [
        {
          "output_type": "stream",
          "name": "stdout",
          "text": [
            "                  Sample ID Units Arsenic (As) Strontium (Sb)  Lead (Pb)\n",
            "0               OEC-red bag   PPM         <LOD           <LOD         12\n",
            "1         OEC-McD white cup   PPM         <LOD           <LOD         10\n",
            "2                OEC-sprite   PPM           12           <LOD         70\n",
            "3         OEC-sprite inside   PPM           22           <LOD         93\n",
            "4  OEC-red solo cup outside   PPM         <LOD           <LOD         12\n"
          ]
        }
      ]
    },
    {
      "cell_type": "code",
      "source": [
        "# Removing Units column\n",
        "df = df.drop(['Units'], axis=1)\n",
        "df.head()"
      ],
      "metadata": {
        "colab": {
          "base_uri": "https://localhost:8080/",
          "height": 206
        },
        "id": "DwkpUSctrTcT",
        "outputId": "74f3432c-3977-4790-a89d-44cfecbf09ec"
      },
      "execution_count": 122,
      "outputs": [
        {
          "output_type": "execute_result",
          "data": {
            "text/plain": [
              "                  Sample ID Arsenic (As) Strontium (Sb)  Lead (Pb)\n",
              "0               OEC-red bag         <LOD           <LOD         12\n",
              "1         OEC-McD white cup         <LOD           <LOD         10\n",
              "2                OEC-sprite           12           <LOD         70\n",
              "3         OEC-sprite inside           22           <LOD         93\n",
              "4  OEC-red solo cup outside         <LOD           <LOD         12"
            ],
            "text/html": [
              "\n",
              "  <div id=\"df-289109f6-865d-45bd-a90e-a4e339a4ac61\" class=\"colab-df-container\">\n",
              "    <div>\n",
              "<style scoped>\n",
              "    .dataframe tbody tr th:only-of-type {\n",
              "        vertical-align: middle;\n",
              "    }\n",
              "\n",
              "    .dataframe tbody tr th {\n",
              "        vertical-align: top;\n",
              "    }\n",
              "\n",
              "    .dataframe thead th {\n",
              "        text-align: right;\n",
              "    }\n",
              "</style>\n",
              "<table border=\"1\" class=\"dataframe\">\n",
              "  <thead>\n",
              "    <tr style=\"text-align: right;\">\n",
              "      <th></th>\n",
              "      <th>Sample ID</th>\n",
              "      <th>Arsenic (As)</th>\n",
              "      <th>Strontium (Sb)</th>\n",
              "      <th>Lead (Pb)</th>\n",
              "    </tr>\n",
              "  </thead>\n",
              "  <tbody>\n",
              "    <tr>\n",
              "      <th>0</th>\n",
              "      <td>OEC-red bag</td>\n",
              "      <td>&lt;LOD</td>\n",
              "      <td>&lt;LOD</td>\n",
              "      <td>12</td>\n",
              "    </tr>\n",
              "    <tr>\n",
              "      <th>1</th>\n",
              "      <td>OEC-McD white cup</td>\n",
              "      <td>&lt;LOD</td>\n",
              "      <td>&lt;LOD</td>\n",
              "      <td>10</td>\n",
              "    </tr>\n",
              "    <tr>\n",
              "      <th>2</th>\n",
              "      <td>OEC-sprite</td>\n",
              "      <td>12</td>\n",
              "      <td>&lt;LOD</td>\n",
              "      <td>70</td>\n",
              "    </tr>\n",
              "    <tr>\n",
              "      <th>3</th>\n",
              "      <td>OEC-sprite inside</td>\n",
              "      <td>22</td>\n",
              "      <td>&lt;LOD</td>\n",
              "      <td>93</td>\n",
              "    </tr>\n",
              "    <tr>\n",
              "      <th>4</th>\n",
              "      <td>OEC-red solo cup outside</td>\n",
              "      <td>&lt;LOD</td>\n",
              "      <td>&lt;LOD</td>\n",
              "      <td>12</td>\n",
              "    </tr>\n",
              "  </tbody>\n",
              "</table>\n",
              "</div>\n",
              "    <div class=\"colab-df-buttons\">\n",
              "\n",
              "  <div class=\"colab-df-container\">\n",
              "    <button class=\"colab-df-convert\" onclick=\"convertToInteractive('df-289109f6-865d-45bd-a90e-a4e339a4ac61')\"\n",
              "            title=\"Convert this dataframe to an interactive table.\"\n",
              "            style=\"display:none;\">\n",
              "\n",
              "  <svg xmlns=\"http://www.w3.org/2000/svg\" height=\"24px\" viewBox=\"0 -960 960 960\">\n",
              "    <path d=\"M120-120v-720h720v720H120Zm60-500h600v-160H180v160Zm220 220h160v-160H400v160Zm0 220h160v-160H400v160ZM180-400h160v-160H180v160Zm440 0h160v-160H620v160ZM180-180h160v-160H180v160Zm440 0h160v-160H620v160Z\"/>\n",
              "  </svg>\n",
              "    </button>\n",
              "\n",
              "  <style>\n",
              "    .colab-df-container {\n",
              "      display:flex;\n",
              "      gap: 12px;\n",
              "    }\n",
              "\n",
              "    .colab-df-convert {\n",
              "      background-color: #E8F0FE;\n",
              "      border: none;\n",
              "      border-radius: 50%;\n",
              "      cursor: pointer;\n",
              "      display: none;\n",
              "      fill: #1967D2;\n",
              "      height: 32px;\n",
              "      padding: 0 0 0 0;\n",
              "      width: 32px;\n",
              "    }\n",
              "\n",
              "    .colab-df-convert:hover {\n",
              "      background-color: #E2EBFA;\n",
              "      box-shadow: 0px 1px 2px rgba(60, 64, 67, 0.3), 0px 1px 3px 1px rgba(60, 64, 67, 0.15);\n",
              "      fill: #174EA6;\n",
              "    }\n",
              "\n",
              "    .colab-df-buttons div {\n",
              "      margin-bottom: 4px;\n",
              "    }\n",
              "\n",
              "    [theme=dark] .colab-df-convert {\n",
              "      background-color: #3B4455;\n",
              "      fill: #D2E3FC;\n",
              "    }\n",
              "\n",
              "    [theme=dark] .colab-df-convert:hover {\n",
              "      background-color: #434B5C;\n",
              "      box-shadow: 0px 1px 3px 1px rgba(0, 0, 0, 0.15);\n",
              "      filter: drop-shadow(0px 1px 2px rgba(0, 0, 0, 0.3));\n",
              "      fill: #FFFFFF;\n",
              "    }\n",
              "  </style>\n",
              "\n",
              "    <script>\n",
              "      const buttonEl =\n",
              "        document.querySelector('#df-289109f6-865d-45bd-a90e-a4e339a4ac61 button.colab-df-convert');\n",
              "      buttonEl.style.display =\n",
              "        google.colab.kernel.accessAllowed ? 'block' : 'none';\n",
              "\n",
              "      async function convertToInteractive(key) {\n",
              "        const element = document.querySelector('#df-289109f6-865d-45bd-a90e-a4e339a4ac61');\n",
              "        const dataTable =\n",
              "          await google.colab.kernel.invokeFunction('convertToInteractive',\n",
              "                                                    [key], {});\n",
              "        if (!dataTable) return;\n",
              "\n",
              "        const docLinkHtml = 'Like what you see? Visit the ' +\n",
              "          '<a target=\"_blank\" href=https://colab.research.google.com/notebooks/data_table.ipynb>data table notebook</a>'\n",
              "          + ' to learn more about interactive tables.';\n",
              "        element.innerHTML = '';\n",
              "        dataTable['output_type'] = 'display_data';\n",
              "        await google.colab.output.renderOutput(dataTable, element);\n",
              "        const docLink = document.createElement('div');\n",
              "        docLink.innerHTML = docLinkHtml;\n",
              "        element.appendChild(docLink);\n",
              "      }\n",
              "    </script>\n",
              "  </div>\n",
              "\n",
              "\n",
              "<div id=\"df-73359ebe-a856-4e0b-a617-6da55dcfcd49\">\n",
              "  <button class=\"colab-df-quickchart\" onclick=\"quickchart('df-73359ebe-a856-4e0b-a617-6da55dcfcd49')\"\n",
              "            title=\"Suggest charts\"\n",
              "            style=\"display:none;\">\n",
              "\n",
              "<svg xmlns=\"http://www.w3.org/2000/svg\" height=\"24px\"viewBox=\"0 0 24 24\"\n",
              "     width=\"24px\">\n",
              "    <g>\n",
              "        <path d=\"M19 3H5c-1.1 0-2 .9-2 2v14c0 1.1.9 2 2 2h14c1.1 0 2-.9 2-2V5c0-1.1-.9-2-2-2zM9 17H7v-7h2v7zm4 0h-2V7h2v10zm4 0h-2v-4h2v4z\"/>\n",
              "    </g>\n",
              "</svg>\n",
              "  </button>\n",
              "\n",
              "<style>\n",
              "  .colab-df-quickchart {\n",
              "      --bg-color: #E8F0FE;\n",
              "      --fill-color: #1967D2;\n",
              "      --hover-bg-color: #E2EBFA;\n",
              "      --hover-fill-color: #174EA6;\n",
              "      --disabled-fill-color: #AAA;\n",
              "      --disabled-bg-color: #DDD;\n",
              "  }\n",
              "\n",
              "  [theme=dark] .colab-df-quickchart {\n",
              "      --bg-color: #3B4455;\n",
              "      --fill-color: #D2E3FC;\n",
              "      --hover-bg-color: #434B5C;\n",
              "      --hover-fill-color: #FFFFFF;\n",
              "      --disabled-bg-color: #3B4455;\n",
              "      --disabled-fill-color: #666;\n",
              "  }\n",
              "\n",
              "  .colab-df-quickchart {\n",
              "    background-color: var(--bg-color);\n",
              "    border: none;\n",
              "    border-radius: 50%;\n",
              "    cursor: pointer;\n",
              "    display: none;\n",
              "    fill: var(--fill-color);\n",
              "    height: 32px;\n",
              "    padding: 0;\n",
              "    width: 32px;\n",
              "  }\n",
              "\n",
              "  .colab-df-quickchart:hover {\n",
              "    background-color: var(--hover-bg-color);\n",
              "    box-shadow: 0 1px 2px rgba(60, 64, 67, 0.3), 0 1px 3px 1px rgba(60, 64, 67, 0.15);\n",
              "    fill: var(--button-hover-fill-color);\n",
              "  }\n",
              "\n",
              "  .colab-df-quickchart-complete:disabled,\n",
              "  .colab-df-quickchart-complete:disabled:hover {\n",
              "    background-color: var(--disabled-bg-color);\n",
              "    fill: var(--disabled-fill-color);\n",
              "    box-shadow: none;\n",
              "  }\n",
              "\n",
              "  .colab-df-spinner {\n",
              "    border: 2px solid var(--fill-color);\n",
              "    border-color: transparent;\n",
              "    border-bottom-color: var(--fill-color);\n",
              "    animation:\n",
              "      spin 1s steps(1) infinite;\n",
              "  }\n",
              "\n",
              "  @keyframes spin {\n",
              "    0% {\n",
              "      border-color: transparent;\n",
              "      border-bottom-color: var(--fill-color);\n",
              "      border-left-color: var(--fill-color);\n",
              "    }\n",
              "    20% {\n",
              "      border-color: transparent;\n",
              "      border-left-color: var(--fill-color);\n",
              "      border-top-color: var(--fill-color);\n",
              "    }\n",
              "    30% {\n",
              "      border-color: transparent;\n",
              "      border-left-color: var(--fill-color);\n",
              "      border-top-color: var(--fill-color);\n",
              "      border-right-color: var(--fill-color);\n",
              "    }\n",
              "    40% {\n",
              "      border-color: transparent;\n",
              "      border-right-color: var(--fill-color);\n",
              "      border-top-color: var(--fill-color);\n",
              "    }\n",
              "    60% {\n",
              "      border-color: transparent;\n",
              "      border-right-color: var(--fill-color);\n",
              "    }\n",
              "    80% {\n",
              "      border-color: transparent;\n",
              "      border-right-color: var(--fill-color);\n",
              "      border-bottom-color: var(--fill-color);\n",
              "    }\n",
              "    90% {\n",
              "      border-color: transparent;\n",
              "      border-bottom-color: var(--fill-color);\n",
              "    }\n",
              "  }\n",
              "</style>\n",
              "\n",
              "  <script>\n",
              "    async function quickchart(key) {\n",
              "      const quickchartButtonEl =\n",
              "        document.querySelector('#' + key + ' button');\n",
              "      quickchartButtonEl.disabled = true;  // To prevent multiple clicks.\n",
              "      quickchartButtonEl.classList.add('colab-df-spinner');\n",
              "      try {\n",
              "        const charts = await google.colab.kernel.invokeFunction(\n",
              "            'suggestCharts', [key], {});\n",
              "      } catch (error) {\n",
              "        console.error('Error during call to suggestCharts:', error);\n",
              "      }\n",
              "      quickchartButtonEl.classList.remove('colab-df-spinner');\n",
              "      quickchartButtonEl.classList.add('colab-df-quickchart-complete');\n",
              "    }\n",
              "    (() => {\n",
              "      let quickchartButtonEl =\n",
              "        document.querySelector('#df-73359ebe-a856-4e0b-a617-6da55dcfcd49 button');\n",
              "      quickchartButtonEl.style.display =\n",
              "        google.colab.kernel.accessAllowed ? 'block' : 'none';\n",
              "    })();\n",
              "  </script>\n",
              "</div>\n",
              "\n",
              "    </div>\n",
              "  </div>\n"
            ]
          },
          "metadata": {},
          "execution_count": 122
        }
      ]
    },
    {
      "cell_type": "code",
      "source": [
        "# replacing LOD with 0\n",
        "# to be completely precise <LOD doesn't mean 0\n",
        "df = df.replace('<LOD', 0)\n",
        "print(df)"
      ],
      "metadata": {
        "colab": {
          "base_uri": "https://localhost:8080/"
        },
        "id": "pvI50BNhGzR5",
        "outputId": "65cf9f8e-97e9-4934-8846-8f90387ecf85"
      },
      "execution_count": 123,
      "outputs": [
        {
          "output_type": "stream",
          "name": "stdout",
          "text": [
            "                  Sample ID Arsenic (As) Strontium (Sb)  Lead (Pb)\n",
            "0               OEC-red bag            0              0         12\n",
            "1         OEC-McD white cup            0              0         10\n",
            "2                OEC-sprite           12              0         70\n",
            "3         OEC-sprite inside           22              0         93\n",
            "4  OEC-red solo cup outside            0              0         12\n",
            "5   OEC-red solo cup inside            0              0         14\n",
            "6         OEC-water botltle            6             90         20\n"
          ]
        }
      ]
    },
    {
      "cell_type": "code",
      "source": [
        "# changing sample IDs\n",
        "df.iat[0, 0] = 'Red bag'\n",
        "df.iat[1, 0] = \"McDonald's Cup\"\n",
        "df.iat[2, 0] = 'Outside of Sprite can'\n",
        "df.iat[3, 0] = 'Inside of Sprite can'\n",
        "df.iat[4, 0] = 'Outside of Solo cup'\n",
        "df.iat[5, 0] = 'Inside of Solo cup'\n",
        "df.iat[6, 0] = 'Water bottle'\n",
        "\n",
        "print(df)"
      ],
      "metadata": {
        "colab": {
          "base_uri": "https://localhost:8080/"
        },
        "id": "3LyQHE8vK8Oe",
        "outputId": "86eb33be-140f-4b9f-da8b-5ec588dba3c6"
      },
      "execution_count": 124,
      "outputs": [
        {
          "output_type": "stream",
          "name": "stdout",
          "text": [
            "               Sample ID Arsenic (As) Strontium (Sb)  Lead (Pb)\n",
            "0                Red bag            0              0         12\n",
            "1         McDonald's Cup            0              0         10\n",
            "2  Outside of Sprite can           12              0         70\n",
            "3   Inside of Sprite can           22              0         93\n",
            "4    Outside of Solo cup            0              0         12\n",
            "5     Inside of Solo cup            0              0         14\n",
            "6           Water bottle            6             90         20\n"
          ]
        }
      ]
    },
    {
      "cell_type": "code",
      "source": [
        "df.to_csv('/content/drive/MyDrive/Colab Notebooks/colab_data/clean_xrf_data.csv')"
      ],
      "metadata": {
        "id": "7JDr4TmEbFHt"
      },
      "execution_count": 125,
      "outputs": []
    }
  ]
}