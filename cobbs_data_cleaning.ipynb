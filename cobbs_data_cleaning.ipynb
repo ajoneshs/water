{
  "nbformat": 4,
  "nbformat_minor": 0,
  "metadata": {
    "colab": {
      "provenance": [],
      "authorship_tag": "ABX9TyOzSeHy1MpS02XUcSQyV+qO",
      "include_colab_link": true
    },
    "kernelspec": {
      "name": "python3",
      "display_name": "Python 3"
    },
    "language_info": {
      "name": "python"
    }
  },
  "cells": [
    {
      "cell_type": "markdown",
      "metadata": {
        "id": "view-in-github",
        "colab_type": "text"
      },
      "source": [
        "<a href=\"https://colab.research.google.com/github/ajoneshs/water/blob/main/cobbs_data_cleaning.ipynb\" target=\"_parent\"><img src=\"https://colab.research.google.com/assets/colab-badge.svg\" alt=\"Open In Colab\"/></a>"
      ]
    },
    {
      "cell_type": "code",
      "source": [
        "import pandas as pd\n",
        "import numpy as np"
      ],
      "metadata": {
        "id": "wBVfqyh64ME9"
      },
      "execution_count": 54,
      "outputs": []
    },
    {
      "cell_type": "code",
      "execution_count": 55,
      "metadata": {
        "colab": {
          "base_uri": "https://localhost:8080/"
        },
        "id": "YJIY1InQ3XVF",
        "outputId": "aa608a54-9725-441a-bb41-ea6c0afbcc14"
      },
      "outputs": [
        {
          "output_type": "stream",
          "name": "stdout",
          "text": [
            "Drive already mounted at /content/drive; to attempt to forcibly remount, call drive.mount(\"/content/drive\", force_remount=True).\n"
          ]
        }
      ],
      "source": [
        "from google.colab import drive\n",
        "drive.mount('/content/drive')"
      ]
    },
    {
      "cell_type": "code",
      "source": [
        "df = pd.read_csv('/content/drive/MyDrive/Colab Notebooks/colab_data/og_cobbs_data.csv')\n",
        "print(df.head())"
      ],
      "metadata": {
        "colab": {
          "base_uri": "https://localhost:8080/"
        },
        "id": "-G1MMSrz4Pwg",
        "outputId": "4ce1b4f9-be5f-404d-cabc-4e72c2230531"
      },
      "execution_count": 56,
      "outputs": [
        {
          "output_type": "stream",
          "name": "stdout",
          "text": [
            "        Date     Time Sample ID Rain in Last 24HR Water Level Water Color  \\\n",
            "0  7/18/2023  8:38 AM    CC-1.1                no           -           -   \n",
            "1  7/18/2023  8:39 AM    CC-1.2                no           -           -   \n",
            "2  7/18/2023  8:40 AM    CC-1.3                no           -           -   \n",
            "3  7/19/2023  8:14 AM    CC-1.1               yes           -           -   \n",
            "4  7/19/2023  8:15 AM    CC-1.2               yes           -           -   \n",
            "\n",
            "   Water Temp (C)  DO (mg/L)  Pressure (mmHg)  Conductivity (uS/cm)    pH  \\\n",
            "0            24.8       6.78            760.8                 464.0  7.11   \n",
            "1            24.7       6.61            760.8                 467.0  7.09   \n",
            "2            24.7       6.57            760.8                 467.0  7.07   \n",
            "3            24.0       4.59            761.8                 490.0  6.72   \n",
            "4            24.1       4.56            761.8                 487.0  6.90   \n",
            "\n",
            "   NO3-N (mg/L) PO4-P (mg/L) Presence/Absence  \\\n",
            "0           1.0         0.22          no data   \n",
            "1           1.0         0.31          no data   \n",
            "2           1.0         0.19          no data   \n",
            "3           1.2         0.81          no data   \n",
            "4           1.2         0.57          no data   \n",
            "\n",
            "  RiverWays Colony Count Average (colonies/100mL)  \n",
            "0                                               -  \n",
            "1                                               -  \n",
            "2                                               -  \n",
            "3                                               -  \n",
            "4                                               -  \n"
          ]
        }
      ]
    },
    {
      "cell_type": "code",
      "source": [
        "# renaming for convenience\n",
        "df = df.rename(columns={\n",
        "  'Date': 'date',\n",
        "  'Time': 'time',\n",
        "  'Sample ID': 'id',\n",
        "  'Rain in Last 24HR': 'rain24',\n",
        "  'Water Level': 'water_level',\n",
        "  'Water Color': 'water_color',\n",
        "  'Water Temp (C)': 'water_temp',\n",
        "  'DO (mg/L)': 'dox',\n",
        "  'Pressure (mmHg)': 'pressure',\n",
        "  'Conductivity (uS/cm)': 'conductivity',\n",
        "  'pH': 'ph',\n",
        "  'NO3-N (mg/L)': 'no3n',\n",
        "  'PO4-P (mg/L)': 'po4p',\n",
        "  'Presence/Absence': 'pres',\n",
        "  'RiverWays Colony Count Average (colonies/100mL)': 'col_count'})\n",
        "\n",
        "print(df.head())"
      ],
      "metadata": {
        "id": "HxgOtm1k42iN",
        "colab": {
          "base_uri": "https://localhost:8080/"
        },
        "outputId": "debe02bc-2ce8-4c61-e571-aed70c6ebddd"
      },
      "execution_count": 57,
      "outputs": [
        {
          "output_type": "stream",
          "name": "stdout",
          "text": [
            "        date     time      id rain24 water_level water_color  water_temp  \\\n",
            "0  7/18/2023  8:38 AM  CC-1.1     no           -           -        24.8   \n",
            "1  7/18/2023  8:39 AM  CC-1.2     no           -           -        24.7   \n",
            "2  7/18/2023  8:40 AM  CC-1.3     no           -           -        24.7   \n",
            "3  7/19/2023  8:14 AM  CC-1.1    yes           -           -        24.0   \n",
            "4  7/19/2023  8:15 AM  CC-1.2    yes           -           -        24.1   \n",
            "\n",
            "    dox  pressure  conductivity    ph  no3n  po4p     pres col_count  \n",
            "0  6.78     760.8         464.0  7.11   1.0  0.22  no data         -  \n",
            "1  6.61     760.8         467.0  7.09   1.0  0.31  no data         -  \n",
            "2  6.57     760.8         467.0  7.07   1.0  0.19  no data         -  \n",
            "3  4.59     761.8         490.0  6.72   1.2  0.81  no data         -  \n",
            "4  4.56     761.8         487.0  6.90   1.2  0.57  no data         -  \n"
          ]
        }
      ]
    },
    {
      "cell_type": "code",
      "source": [
        "# replacing yes/no with binary\n",
        "df = df.replace(to_replace=['no', 'yes'], value=[0, 1])\n",
        "print(df.head())"
      ],
      "metadata": {
        "colab": {
          "base_uri": "https://localhost:8080/"
        },
        "id": "CzXmF2AM9AMN",
        "outputId": "1388f211-01af-4163-ad85-37d200fa3f2a"
      },
      "execution_count": 58,
      "outputs": [
        {
          "output_type": "stream",
          "name": "stdout",
          "text": [
            "        date     time      id  rain24 water_level water_color  water_temp  \\\n",
            "0  7/18/2023  8:38 AM  CC-1.1     0.0           -           -        24.8   \n",
            "1  7/18/2023  8:39 AM  CC-1.2     0.0           -           -        24.7   \n",
            "2  7/18/2023  8:40 AM  CC-1.3     0.0           -           -        24.7   \n",
            "3  7/19/2023  8:14 AM  CC-1.1     1.0           -           -        24.0   \n",
            "4  7/19/2023  8:15 AM  CC-1.2     1.0           -           -        24.1   \n",
            "\n",
            "    dox  pressure  conductivity    ph  no3n  po4p     pres col_count  \n",
            "0  6.78     760.8         464.0  7.11   1.0  0.22  no data         -  \n",
            "1  6.61     760.8         467.0  7.09   1.0  0.31  no data         -  \n",
            "2  6.57     760.8         467.0  7.07   1.0  0.19  no data         -  \n",
            "3  4.59     761.8         490.0  6.72   1.2  0.81  no data         -  \n",
            "4  4.56     761.8         487.0  6.90   1.2  0.57  no data         -  \n"
          ]
        }
      ]
    },
    {
      "cell_type": "code",
      "source": [
        "# fixing missing data\n",
        "df = df.replace('-', np.nan)\n",
        "# row 93 had double '--' and wasn't getting picked up\n",
        "df = df.replace('--', np.nan)\n",
        "df = df.replace('no data', np.nan)\n",
        "print(df)\n",
        "# fixed 93 now\n",
        "df.iloc[93]"
      ],
      "metadata": {
        "colab": {
          "base_uri": "https://localhost:8080/"
        },
        "id": "txYVw9QL67wQ",
        "outputId": "72cbc2b9-2c60-4328-b19f-fee478e59b8a"
      },
      "execution_count": 59,
      "outputs": [
        {
          "output_type": "stream",
          "name": "stdout",
          "text": [
            "          date     time      id  rain24     water_level water_color  \\\n",
            "0    7/18/2023  8:38 AM  CC-1.1     0.0             NaN         NaN   \n",
            "1    7/18/2023  8:39 AM  CC-1.2     0.0             NaN         NaN   \n",
            "2    7/18/2023  8:40 AM  CC-1.3     0.0             NaN         NaN   \n",
            "3    7/19/2023  8:14 AM  CC-1.1     1.0             NaN         NaN   \n",
            "4    7/19/2023  8:15 AM  CC-1.2     1.0             NaN         NaN   \n",
            "..         ...      ...     ...     ...             ...         ...   \n",
            "139        NaN      NaN  CC-1.2     NaN  4: Normal-high         NaN   \n",
            "140        NaN      NaN  CC-1.3     NaN  4: Normal-high         NaN   \n",
            "141        NaN      NaN  CC-1.1     NaN  4: Normal-high         NaN   \n",
            "142        NaN      NaN  CC-1.2     NaN  4: Normal-high         NaN   \n",
            "143        NaN      NaN  CC-1.3     NaN  4: Normal-high         NaN   \n",
            "\n",
            "     water_temp   dox  pressure  conductivity    ph  no3n  po4p pres col_count  \n",
            "0          24.8  6.78     760.8         464.0  7.11   1.0  0.22  NaN       NaN  \n",
            "1          24.7  6.61     760.8         467.0  7.09   1.0  0.31  NaN       NaN  \n",
            "2          24.7  6.57     760.8         467.0  7.07   1.0  0.19  NaN       NaN  \n",
            "3          24.0  4.59     761.8         490.0  6.72   1.2  0.81  NaN       NaN  \n",
            "4          24.1  4.56     761.8         487.0  6.90   1.2  0.57  NaN       NaN  \n",
            "..          ...   ...       ...           ...   ...   ...   ...  ...       ...  \n",
            "139         NaN   NaN       NaN           NaN   NaN   NaN   NaN  NaN       NaN  \n",
            "140         NaN   NaN       NaN           NaN   NaN   NaN   NaN  NaN       NaN  \n",
            "141         NaN   NaN       NaN           NaN   NaN   NaN   NaN  NaN       NaN  \n",
            "142         NaN   NaN       NaN           NaN   NaN   NaN   NaN  NaN       NaN  \n",
            "143         NaN   NaN       NaN           NaN   NaN   NaN   NaN  NaN       NaN  \n",
            "\n",
            "[144 rows x 15 columns]\n"
          ]
        },
        {
          "output_type": "execute_result",
          "data": {
            "text/plain": [
              "date            10/10/2023\n",
              "time               7:45 AM\n",
              "id                  CC-1.1\n",
              "rain24                 0.0\n",
              "water_level        5: High\n",
              "water_color          Clear\n",
              "water_temp            14.6\n",
              "dox                    8.7\n",
              "pressure             758.1\n",
              "conductivity         678.0\n",
              "ph                    6.88\n",
              "no3n                   1.5\n",
              "po4p                  1.64\n",
              "pres                   NaN\n",
              "col_count              NaN\n",
              "Name: 93, dtype: object"
            ]
          },
          "metadata": {},
          "execution_count": 59
        }
      ]
    },
    {
      "cell_type": "code",
      "source": [
        "# remove empty rows at the bottom\n",
        "df = df.dropna(subset=['date'])\n",
        "print(df)"
      ],
      "metadata": {
        "colab": {
          "base_uri": "https://localhost:8080/"
        },
        "id": "a44CKxqXCdBx",
        "outputId": "375afc16-a292-4eab-e3da-4bb2723a8c1f"
      },
      "execution_count": 60,
      "outputs": [
        {
          "output_type": "stream",
          "name": "stdout",
          "text": [
            "          date     time      id  rain24 water_level water_color  water_temp  \\\n",
            "0    7/18/2023  8:38 AM  CC-1.1     0.0         NaN         NaN        24.8   \n",
            "1    7/18/2023  8:39 AM  CC-1.2     0.0         NaN         NaN        24.7   \n",
            "2    7/18/2023  8:40 AM  CC-1.3     0.0         NaN         NaN        24.7   \n",
            "3    7/19/2023  8:14 AM  CC-1.1     1.0         NaN         NaN        24.0   \n",
            "4    7/19/2023  8:15 AM  CC-1.2     1.0         NaN         NaN        24.1   \n",
            "..         ...      ...     ...     ...         ...         ...         ...   \n",
            "118  11/1/2023  7:51 AM  CC-1.2     1.0     5: High       Clear        12.4   \n",
            "119  11/1/2023  7:52 AM  CC-1.3     1.0     5: High       Clear        12.2   \n",
            "120  11/2/2023  7:50 AM  CC-1.1     0.0     5: High       Clear        10.2   \n",
            "121  11/2/2023  7:51 AM  CC-1.2     0.0     5: High       Clear         9.6   \n",
            "122  11/2/2023  7:52 AM  CC-1.3     0.0     5: High       Clear         9.2   \n",
            "\n",
            "      dox  pressure  conductivity    ph  no3n  po4p pres col_count  \n",
            "0    6.78     760.8         464.0  7.11   1.0  0.22  NaN       NaN  \n",
            "1    6.61     760.8         467.0  7.09   1.0  0.31  NaN       NaN  \n",
            "2    6.57     760.8         467.0  7.07   1.0  0.19  NaN       NaN  \n",
            "3    4.59     761.8         490.0  6.72   1.2  0.81  NaN       NaN  \n",
            "4    4.56     761.8         487.0  6.90   1.2  0.57  NaN       NaN  \n",
            "..    ...       ...           ...   ...   ...   ...  ...       ...  \n",
            "118  8.63     762.3         673.0  6.67   1.3  0.17  NaN       NaN  \n",
            "119  8.65     762.3         675.0  6.88   1.3  0.13  NaN       NaN  \n",
            "120  9.19     774.2         638.0  6.57   1.2  0.46  NaN       NaN  \n",
            "121  9.36     774.2         654.0  6.61   1.1  0.43  NaN       NaN  \n",
            "122  9.39     774.2         658.0  6.65   1.2  0.18  NaN       NaN  \n",
            "\n",
            "[123 rows x 15 columns]\n"
          ]
        }
      ]
    },
    {
      "cell_type": "code",
      "source": [
        "df.to_csv('/content/drive/MyDrive/Colab Notebooks/colab_data/clean_cobbs_data.csv')"
      ],
      "metadata": {
        "id": "0L1nfzb1E3dh"
      },
      "execution_count": 61,
      "outputs": []
    },
    {
      "cell_type": "code",
      "source": [
        "####################\n",
        "##### XRF Data #####\n",
        "####################\n",
        "\n",
        "df = pd.read_csv('/content/drive/MyDrive/Colab Notebooks/colab_data/og_xrf_data.csv')\n",
        "print(df.head())"
      ],
      "metadata": {
        "colab": {
          "base_uri": "https://localhost:8080/"
        },
        "id": "-vrnb8SYCXsR",
        "outputId": "864e6be3-0d47-4db3-b9f3-585575335d1b"
      },
      "execution_count": 62,
      "outputs": [
        {
          "output_type": "stream",
          "name": "stdout",
          "text": [
            "                  Sample ID Units Arsenic (As) Strontium (Sb)  Lead (Pb)\n",
            "0               OEC-red bag   PPM         <LOD           <LOD         12\n",
            "1         OEC-McD white cup   PPM         <LOD           <LOD         10\n",
            "2                OEC-sprite   PPM           12           <LOD         70\n",
            "3         OEC-sprite inside   PPM           22           <LOD         93\n",
            "4  OEC-red solo cup outside   PPM         <LOD           <LOD         12\n"
          ]
        }
      ]
    },
    {
      "cell_type": "code",
      "source": [
        "# replacing LOD with 0\n",
        "# to be completely precise <LOD doesn't mean 0\n",
        "df = df.replace('<LOD', 0)\n",
        "print(df)"
      ],
      "metadata": {
        "colab": {
          "base_uri": "https://localhost:8080/"
        },
        "id": "pvI50BNhGzR5",
        "outputId": "38e8975b-207a-43ed-9536-f9269c292b44"
      },
      "execution_count": 63,
      "outputs": [
        {
          "output_type": "stream",
          "name": "stdout",
          "text": [
            "                  Sample ID Units Arsenic (As) Strontium (Sb)  Lead (Pb)\n",
            "0               OEC-red bag   PPM            0              0         12\n",
            "1         OEC-McD white cup   PPM            0              0         10\n",
            "2                OEC-sprite   PPM           12              0         70\n",
            "3         OEC-sprite inside   PPM           22              0         93\n",
            "4  OEC-red solo cup outside   PPM            0              0         12\n",
            "5   OEC-red solo cup inside   PPM            0              0         14\n",
            "6         OEC-water botltle   PPM            6             90         20\n"
          ]
        }
      ]
    },
    {
      "cell_type": "code",
      "source": [
        "# changing sample IDs\n",
        "df.iat[0, 0] = 'Red bag'\n",
        "df.iat[1, 0] = \"McDonald's Cup\"\n",
        "df.iat[2, 0] = 'Outside of Sprite can'\n",
        "df.iat[3, 0] = 'Inside of Sprite can'\n",
        "df.iat[4, 0] = 'Outside of Solo cup'\n",
        "df.iat[5, 0] = 'Inside of Solo cup'\n",
        "df.iat[6, 0] = 'Water bottle'\n",
        "\n",
        "print(df)"
      ],
      "metadata": {
        "colab": {
          "base_uri": "https://localhost:8080/"
        },
        "id": "3LyQHE8vK8Oe",
        "outputId": "8b3fee23-ab1c-4bc1-ffa6-3d7c60c6f80c"
      },
      "execution_count": 64,
      "outputs": [
        {
          "output_type": "stream",
          "name": "stdout",
          "text": [
            "               Sample ID Units Arsenic (As) Strontium (Sb)  Lead (Pb)\n",
            "0                Red bag   PPM            0              0         12\n",
            "1         McDonald's Cup   PPM            0              0         10\n",
            "2  Outside of Sprite can   PPM           12              0         70\n",
            "3   Inside of Sprite can   PPM           22              0         93\n",
            "4    Outside of Solo cup   PPM            0              0         12\n",
            "5     Inside of Solo cup   PPM            0              0         14\n",
            "6           Water bottle   PPM            6             90         20\n"
          ]
        }
      ]
    },
    {
      "cell_type": "code",
      "source": [
        "df.to_csv('/content/drive/MyDrive/Colab Notebooks/colab_data/clean_xrf_data.csv')"
      ],
      "metadata": {
        "id": "7JDr4TmEbFHt"
      },
      "execution_count": 65,
      "outputs": []
    }
  ]
}